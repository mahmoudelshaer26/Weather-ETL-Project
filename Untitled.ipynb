{
 "cells": [
  {
   "cell_type": "code",
   "execution_count": 1,
   "id": "737dd63d-0116-4a3b-8d33-c8f1ee86fdb0",
   "metadata": {},
   "outputs": [
    {
     "name": "stderr",
     "output_type": "stream",
     "text": [
      "C:\\Users\\Mahmoud\\Desktop\\EU\\TERM_III\\BusinessIntelligence\\FinalProject\\extract_weather.py:19: DeprecationWarning: datetime.datetime.utcnow() is deprecated and scheduled for removal in a future version. Use timezone-aware objects to represent datetimes in UTC: datetime.datetime.now(datetime.UTC).\n",
      "  \"timestamp\": datetime.utcnow().strftime(\"%Y-%m-%d %H:%M:%S\")\n",
      "Traceback (most recent call last):\n",
      "  File \"C:\\Users\\Mahmoud\\Desktop\\EU\\TERM_III\\BusinessIntelligence\\FinalProject\\extract_weather.py\", line 40, in <module>\n",
      "    print(\"\\u2705 Weather data extracted and saved to CSV.\")\n",
      "    ~~~~~^^^^^^^^^^^^^^^^^^^^^^^^^^^^^^^^^^^^^^^^^^^^^^^\n",
      "  File \"C:\\Users\\Mahmoud\\AppData\\Local\\Programs\\Python\\Python313\\Lib\\encodings\\cp1252.py\", line 19, in encode\n",
      "    return codecs.charmap_encode(input,self.errors,encoding_table)[0]\n",
      "           ~~~~~~~~~~~~~~~~~~~~~^^^^^^^^^^^^^^^^^^^^^^^^^^^^^^^^^^\n",
      "UnicodeEncodeError: 'charmap' codec can't encode character '\\u2705' in position 0: character maps to <undefined>\n"
     ]
    }
   ],
   "source": [
    "!python extract_weather.py\n"
   ]
  },
  {
   "cell_type": "code",
   "execution_count": null,
   "id": "7c88ade3-7bd5-466c-8c96-5abdbb2c147f",
   "metadata": {},
   "outputs": [],
   "source": []
  }
 ],
 "metadata": {
  "kernelspec": {
   "display_name": "Python 3 (ipykernel)",
   "language": "python",
   "name": "python3"
  },
  "language_info": {
   "codemirror_mode": {
    "name": "ipython",
    "version": 3
   },
   "file_extension": ".py",
   "mimetype": "text/x-python",
   "name": "python",
   "nbconvert_exporter": "python",
   "pygments_lexer": "ipython3",
   "version": "3.13.1"
  }
 },
 "nbformat": 4,
 "nbformat_minor": 5
}
